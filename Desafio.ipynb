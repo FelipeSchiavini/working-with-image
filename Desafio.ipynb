{
 "cells": [
  {
   "cell_type": "code",
   "execution_count": 1,
   "metadata": {},
   "outputs": [],
   "source": [
    "import numpy as np\n",
    "import cv2\n",
    "import matplotlib.pyplot as plt\n",
    "\n",
    "%matplotlib inline"
   ]
  },
  {
   "cell_type": "markdown",
   "metadata": {},
   "source": [
    "### Desafio\n",
    "\n",
    "Identifique cada bola contida na imagem abaixo, utilizando o canal H da imagem no sistema de cores HSV. Crie três novas imagens (pretas) contendo cada uma das bolas (em branco), separadamente. Em seguida, desenvolva um algoritmo para descobrir o centro e o raio do círculo que corresponde a cada bola.\n",
    "\n",
    "Por fim, desenhe uma circunferência de raio igual ao da bola (e com espessura de 20 px) para representar a posição das bolas em uma outra imagem.\n",
    "\n",
    "As cores das bolas, em RGB, são:\n",
    "- Azul: (188, 211, 225)\n",
    "- Amarela: (237,210,77)\n",
    "- Rosa: (205, 113, 160)\n",
    "\n",
    "**Exemplo**\n",
    "\n",
    "![Exemplo de solução](images/desafio-solucao.png)"
   ]
  },
  {
   "cell_type": "markdown",
   "metadata": {},
   "source": [
    "## Transformações Geométricas\n",
    "---\n",
    "\n",
    "## Realce de Imagens\n",
    "---"
   ]
  },
  {
   "cell_type": "markdown",
   "metadata": {},
   "source": [
    "#### Lendo a imagem"
   ]
  },
  {
   "cell_type": "code",
   "execution_count": 2,
   "metadata": {},
   "outputs": [],
   "source": [
    "img = cv2.imread('images/balls.png', cv2.IMREAD_COLOR)"
   ]
  },
  {
   "cell_type": "code",
   "execution_count": 3,
   "metadata": {},
   "outputs": [],
   "source": [
    "# BGR TO RGB\n",
    "img = cv2.cvtColor(img, cv2.COLOR_BGR2RGB)"
   ]
  },
  {
   "cell_type": "code",
   "execution_count": 4,
   "metadata": {},
   "outputs": [
    {
     "data": {
      "text/plain": [
       "<matplotlib.image.AxesImage at 0x151321b27c8>"
      ]
     },
     "execution_count": 4,
     "metadata": {},
     "output_type": "execute_result"
    },
    {
     "data": {
      "image/png": "[encoded data removed]",
      "text/plain": [
       "<Figure size 432x288 with 1 Axes>"
      ]
     },
     "metadata": {
      "needs_background": "light"
     },
     "output_type": "display_data"
    }
   ],
   "source": [
    "# PREVIEW IMAGE\n",
    "plt.imshow(img)"
   ]
  },
  {
   "cell_type": "markdown",
   "metadata": {},
   "source": [
    "#### RGB TO HSV"
   ]
  },
  {
   "cell_type": "code",
   "execution_count": 5,
   "metadata": {},
   "outputs": [],
   "source": [
    "img = cv2.cvtColor(img, cv2.COLOR_RGB2HSV)\n",
    "H = img[:,:,0]"
   ]
  },
  {
   "cell_type": "markdown",
   "metadata": {},
   "source": [
    "#### Transformando em RGB para HSV e retornando o valor de H"
   ]
  },
  {
   "cell_type": "code",
   "execution_count": 6,
   "metadata": {},
   "outputs": [],
   "source": [
    "def h_from_rgb(R,G,B):\n",
    "    cor = np.array([[[R, G, B]]], np.uint8)\n",
    "    cor = cv2.cvtColor(cor, cv2.COLOR_RGB2HSV)\n",
    "    return cor[0,0,0]"
   ]
  },
  {
   "cell_type": "code",
   "execution_count": 7,
   "metadata": {},
   "outputs": [],
   "source": [
    "h_azul = h_from_rgb(188, 211, 225)\n",
    "h_amarelo = h_from_rgb(237,210,77)\n",
    "h_rosa = h_from_rgb(205, 113, 160)"
   ]
  },
  {
   "cell_type": "markdown",
   "metadata": {},
   "source": [
    "#### Criando três novas imagens (pretas) contendo cada uma das bolas (em branco), separadamente"
   ]
  },
  {
   "cell_type": "code",
   "execution_count": 8,
   "metadata": {},
   "outputs": [],
   "source": [
    "def create_img_black():\n",
    "    return np.zeros((img.shape[:2]), np.uint8)"
   ]
  },
  {
   "cell_type": "code",
   "execution_count": 9,
   "metadata": {},
   "outputs": [],
   "source": [
    "img_azul = create_img_black()\n",
    "img_amarelo = create_img_black()\n",
    "img_rosa = create_img_black()"
   ]
  },
  {
   "cell_type": "code",
   "execution_count": 10,
   "metadata": {},
   "outputs": [],
   "source": [
    "def white_circle(img,color, H,title):\n",
    "    for i in range(img.shape[0]):\n",
    "        for j in range(img.shape[1]):\n",
    "            if H[i,j] == color:\n",
    "                img[i,j] = 255\n",
    "    plt.imshow(img, cmap = 'gray')\n",
    "    plt.title(title)"
   ]
  },
  {
   "cell_type": "code",
   "execution_count": 11,
   "metadata": {},
   "outputs": [
    {
     "data": {
      "image/png": "[encoded data removed]",
      "text/plain": [
       "<Figure size 432x288 with 1 Axes>"
      ]
     },
     "metadata": {
      "needs_background": "light"
     },
     "output_type": "display_data"
    }
   ],
   "source": [
    "white_circle(img_azul, h_azul, H, 'Cículo Azul')"
   ]
  },
  {
   "cell_type": "code",
   "execution_count": 12,
   "metadata": {},
   "outputs": [
    {
     "data": {
      "image/png": "[encoded data removed]",
      "text/plain": [
       "<Figure size 432x288 with 1 Axes>"
      ]
     },
     "metadata": {
      "needs_background": "light"
     },
     "output_type": "display_data"
    }
   ],
   "source": [
    "white_circle(img_amarelo, h_amarelo, H, 'Cículo Amarelo')"
   ]
  },
  {
   "cell_type": "code",
   "execution_count": 13,
   "metadata": {},
   "outputs": [
    {
     "data": {
      "image/png": "[encoded data removed]",
      "text/plain": [
       "<Figure size 432x288 with 1 Axes>"
      ]
     },
     "metadata": {
      "needs_background": "light"
     },
     "output_type": "display_data"
    }
   ],
   "source": [
    "white_circle(img_rosa, h_rosa, H, 'Circulo Rosa')"
   ]
  },
  {
   "cell_type": "code",
   "execution_count": 14,
   "metadata": {},
   "outputs": [],
   "source": [
    "def center_raio_circle(img):\n",
    "    lista_x = []\n",
    "    lista_y = []\n",
    "    for i in range (img.shape[0]):\n",
    "        for j in range(img.shape[1]):\n",
    "            if img[i,j] > 0:\n",
    "                lista_y.append((i))\n",
    "                lista_x.append((j))\n",
    "    x_min = np.min(lista_x)\n",
    "    y_min = np.min(lista_y)\n",
    "    x_max = np.max(lista_x)\n",
    "    y_max = np.max(lista_y)\n",
    "    raio = (x_max - x_min) / 2\n",
    "    y_centro = y_min + raio\n",
    "    x_centro = x_min + raio\n",
    "    return (int(raio), int(x_centro), int(y_centro))\n",
    "    "
   ]
  },
  {
   "cell_type": "code",
   "execution_count": 15,
   "metadata": {},
   "outputs": [],
   "source": [
    "raio_r, x_centro_r, y_centro_r = center_raio_circle(img_rosa)\n",
    "raio_am, x_centro_am, y_centro_am = center_raio_circle(img_amarelo)\n",
    "raio_az, x_centro_az, y_centro_az= center_raio_circle(img_azul)"
   ]
  },
  {
   "cell_type": "markdown",
   "metadata": {},
   "source": [
    "### Final "
   ]
  },
  {
   "cell_type": "code",
   "execution_count": 16,
   "metadata": {},
   "outputs": [],
   "source": [
    "img_final = np.zeros((img.shape), np.uint8)"
   ]
  },
  {
   "cell_type": "code",
   "execution_count": 17,
   "metadata": {},
   "outputs": [
    {
     "data": {
      "text/plain": [
       "Text(0.5, 1.0, 'Resposta Final')"
      ]
     },
     "execution_count": 17,
     "metadata": {},
     "output_type": "execute_result"
    },
    {
     "data": {
      "image/png": "[encoded data removed]",
      "text/plain": [
       "<Figure size 432x288 with 1 Axes>"
      ]
     },
     "metadata": {
      "needs_background": "light"
     },
     "output_type": "display_data"
    }
   ],
   "source": [
    "cv2.circle(img_final, center = (x_centro_r,y_centro_r), radius = raio_r, color = (205, 113, 160),  thickness = 20)\n",
    "cv2.circle(img_final, center = (x_centro_am,y_centro_am), radius = raio_am, color = (237,210,77),  thickness = 20)\n",
    "cv2.circle(img_final, center = (x_centro_az,y_centro_az), radius = raio_az, color = (188, 211, 225),  thickness = 20)\n",
    "\n",
    "plt.imshow(img_final)\n",
    "plt.title('Resposta Final')"
   ]
  }
 ],
 "metadata": {
  "kernelspec": {
   "display_name": "Python 3",
   "language": "python",
   "name": "python3"
  },
  "language_info": {
   "codemirror_mode": {
    "name": "ipython",
    "version": 3
   },
   "file_extension": ".py",
   "mimetype": "text/x-python",
   "name": "python",
   "nbconvert_exporter": "python",
   "pygments_lexer": "ipython3",
   "version": "3.7.6"
  }
 },
 "nbformat": 4,
 "nbformat_minor": 4
}
